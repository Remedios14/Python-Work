{
 "cells": [
  {
   "cell_type": "markdown",
   "id": "651c9b88-0eda-4eee-9dc7-23a75683c49a",
   "metadata": {},
   "source": [
    "pip install xgboost\\\n",
    "pip install --upgrade xgboost"
   ]
  },
  {
   "cell_type": "code",
   "execution_count": 1,
   "id": "50e7249a-4032-46c9-b290-0e5151e07241",
   "metadata": {},
   "outputs": [],
   "source": [
    "import xgboost as xgb"
   ]
  },
  {
   "cell_type": "code",
   "execution_count": 4,
   "id": "231f1809-50a5-40db-aaa6-98d616157765",
   "metadata": {},
   "outputs": [],
   "source": [
    "from xgboost import XGBRegressor as XGBR\n",
    "from sklearn.ensemble import RandomForestRegressor as RFR\n",
    "from sklearn.linear_model import LinearRegression as LinearR\n",
    "from sklearn.datasets import load_boston\n",
    "from sklearn.model_selection import KFold, cross_val_score as CVS, train_test_split as TTS\n",
    "from sklearn.metrics import mean_squared_error as MSE\n",
    "import pandas as pd\n",
    "import numpy as np\n",
    "import matplotlib.pyplot as plt\n",
    "from time import time\n",
    "import datetime"
   ]
  },
  {
   "cell_type": "code",
   "execution_count": 5,
   "id": "9aaff7fd-d516-4c6f-8278-01bd085648b6",
   "metadata": {},
   "outputs": [],
   "source": [
    "data = load_boston()"
   ]
  },
  {
   "cell_type": "code",
   "execution_count": 6,
   "id": "d71f7696-5cc5-406c-bd89-84310072fd94",
   "metadata": {},
   "outputs": [],
   "source": [
    "x = data.data\n",
    "y = data.target"
   ]
  },
  {
   "cell_type": "code",
   "execution_count": 7,
   "id": "353e80cf-8325-4aef-9cdd-7277b8d28424",
   "metadata": {},
   "outputs": [],
   "source": [
    "Xtrain, Xtest, Ytrain, Ytest = TTS(x,y,test_size=0.3,random_state=420)"
   ]
  },
  {
   "cell_type": "code",
   "execution_count": 8,
   "id": "9c57e60d-560e-43e3-b0ce-d9ad2a62fca8",
   "metadata": {},
   "outputs": [],
   "source": [
    "reg = XGBR(n_estimators=100).fit(Xtrain,Ytrain)"
   ]
  },
  {
   "cell_type": "code",
   "execution_count": 9,
   "id": "fcab1a71-6266-409d-8e30-36d2422484cc",
   "metadata": {
    "collapsed": true,
    "jupyter": {
     "outputs_hidden": true
    },
    "tags": []
   },
   "outputs": [
    {
     "data": {
      "text/plain": [
       "array([ 6.6689262, 22.34918  , 31.052807 , 13.911595 ,  9.467966 ,\n",
       "       22.658588 , 14.514282 , 15.092699 , 15.293644 , 12.680115 ,\n",
       "       24.140797 , 35.890083 , 21.573483 , 27.07066  , 19.052658 ,\n",
       "        9.89033  , 23.386076 , 23.588493 , 23.311466 , 22.401644 ,\n",
       "       18.98444  , 15.766946 , 25.8352   , 20.193802 , 19.982517 ,\n",
       "       15.611423 , 22.883228 , 29.838228 , 22.815304 , 16.779037 ,\n",
       "       37.13194  , 20.133305 , 19.67352  , 23.525528 , 22.845137 ,\n",
       "       23.87397  , 15.17887  , 23.45934  , 16.685331 , 31.761686 ,\n",
       "       18.525843 , 22.441063 , 38.48728  , 17.93719  , 15.10122  ,\n",
       "       28.980541 , 46.363487 , 12.842797 ,  9.618281 , 35.40579  ,\n",
       "       25.657566 , 20.605602 , 20.800055 , 49.228447 , 31.355848 ,\n",
       "       29.382515 , 18.911947 , 21.049877 , 16.165182 , 18.098577 ,\n",
       "       14.659002 , 21.720213 , 19.413454 , 28.932102 , 30.573524 ,\n",
       "       19.228426 , 20.531511 , 15.666289 , 23.52929  , 19.30554  ,\n",
       "       28.384985 , 42.83562  , 29.429724 , 23.306015 , 19.741224 ,\n",
       "       24.202463 , 38.735516 , 26.782232 , 22.168324 , 20.67139  ,\n",
       "       19.534992 , 47.360317 , 24.008802 ,  8.184814 , 25.613977 ,\n",
       "       20.691843 , 17.127483 , 21.10027  , 22.279167 ,  7.755469 ,\n",
       "       20.0476   , 15.406112 , 42.38165  , 33.828186 , 22.788246 ,\n",
       "        9.302419 , 10.416187 , 20.033014 ,  8.241165 , 12.816478 ,\n",
       "       30.793974 , 10.078776 , 25.383692 , 21.933594 , 30.53568  ,\n",
       "       42.866497 , 19.598145 ,  8.321976 , 23.194368 , 12.547767 ,\n",
       "       46.838867 , 22.961082 , 20.244467 , 23.170694 , 18.948856 ,\n",
       "       29.682056 , 24.363865 , 19.715958 , 44.975193 , 17.64582  ,\n",
       "       24.3169   , 24.946495 , 18.23235  , 16.922577 , 14.77714  ,\n",
       "       21.757038 , 33.83876  , 10.938419 , 20.035763 , 21.085218 ,\n",
       "       19.331562 , 20.505526 ,  8.285518 , 28.01946  , 29.631227 ,\n",
       "       19.908175 , 18.30325  , 14.204149 , 10.795732 , 18.232307 ,\n",
       "       42.266888 , 17.304502 , 22.974121 , 20.946724 , 30.724297 ,\n",
       "       20.072989 , 12.772859 , 41.472908 , 27.652838 , 22.20476  ,\n",
       "       14.235871 , 25.88964  ], dtype=float32)"
      ]
     },
     "execution_count": 9,
     "metadata": {},
     "output_type": "execute_result"
    }
   ],
   "source": [
    "reg.predict(Xtest)"
   ]
  },
  {
   "cell_type": "code",
   "execution_count": 10,
   "id": "411f231d-659d-4bd0-9a47-4d2d5bf4af82",
   "metadata": {},
   "outputs": [
    {
     "data": {
      "text/plain": [
       "0.9050988968414799"
      ]
     },
     "execution_count": 10,
     "metadata": {},
     "output_type": "execute_result"
    }
   ],
   "source": [
    "reg.score(Xtest,Ytest)"
   ]
  },
  {
   "cell_type": "code",
   "execution_count": 11,
   "id": "f9c28625-719b-47f5-973e-87ae68bb881a",
   "metadata": {},
   "outputs": [
    {
     "data": {
      "text/plain": [
       "8.830916343629323"
      ]
     },
     "execution_count": 11,
     "metadata": {},
     "output_type": "execute_result"
    }
   ],
   "source": [
    "MSE(Ytest,reg.predict(Xtest))"
   ]
  },
  {
   "cell_type": "code",
   "execution_count": 12,
   "id": "75d95bcf-8bf3-447b-8063-437aecc79e7c",
   "metadata": {},
   "outputs": [
    {
     "data": {
      "text/plain": [
       "array([0.01902167, 0.0042109 , 0.01478316, 0.00553537, 0.02222196,\n",
       "       0.37914088, 0.01679686, 0.0469872 , 0.04073574, 0.05491759,\n",
       "       0.06684221, 0.00869464, 0.3201119 ], dtype=float32)"
      ]
     },
     "execution_count": 12,
     "metadata": {},
     "output_type": "execute_result"
    }
   ],
   "source": [
    "reg.feature_importances_"
   ]
  },
  {
   "cell_type": "code",
   "execution_count": 14,
   "id": "54cd130f-d0ae-4ef4-89ad-1cbdadc9645a",
   "metadata": {},
   "outputs": [],
   "source": [
    "reg1 = XGBR(n_estimators=100)"
   ]
  },
  {
   "cell_type": "code",
   "execution_count": 15,
   "id": "f6cc0150-0f64-4347-bdd0-0a87784de4a6",
   "metadata": {},
   "outputs": [
    {
     "data": {
      "text/plain": [
       "array([0.83123948, 0.77538516, 0.82292472, 0.81418649, 0.75379556])"
      ]
     },
     "execution_count": 15,
     "metadata": {},
     "output_type": "execute_result"
    }
   ],
   "source": [
    "CVS(reg1,Xtrain,Ytrain,cv=5)"
   ]
  },
  {
   "cell_type": "code",
   "execution_count": 16,
   "id": "525f290e-a080-43cc-93dd-fd4976510ef5",
   "metadata": {},
   "outputs": [],
   "source": [
    "xgb_cvs = CVS(reg1,Xtrain,Ytrain,cv=5,scoring='neg_mean_squared_error')"
   ]
  },
  {
   "cell_type": "code",
   "execution_count": 20,
   "id": "92223418-487e-46e8-91f2-68d712dfb124",
   "metadata": {},
   "outputs": [
    {
     "data": {
      "text/plain": [
       "-16.215644229762717"
      ]
     },
     "execution_count": 20,
     "metadata": {},
     "output_type": "execute_result"
    }
   ],
   "source": [
    "xgb_cvs.mean()"
   ]
  },
  {
   "cell_type": "code",
   "execution_count": 18,
   "id": "114bfa0e-09c7-478b-b2b3-cbb6cf70caa7",
   "metadata": {},
   "outputs": [],
   "source": [
    "rfr = RFR(n_estimators=100)\n",
    "rfr_cvs = CVS(rfr,Xtrain,Ytrain,cv=5,scoring='neg_mean_squared_error')"
   ]
  },
  {
   "cell_type": "code",
   "execution_count": 21,
   "id": "39634fe5-32d7-4fd8-abe9-c667db710a2c",
   "metadata": {},
   "outputs": [
    {
     "data": {
      "text/plain": [
       "-16.161696515573446"
      ]
     },
     "execution_count": 21,
     "metadata": {},
     "output_type": "execute_result"
    }
   ],
   "source": [
    "rfr_cvs.mean()"
   ]
  },
  {
   "cell_type": "code",
   "execution_count": 22,
   "id": "b0e99e6e-bde4-4da5-b9eb-cb0cecc42cd9",
   "metadata": {},
   "outputs": [],
   "source": [
    "lr = LinearR()\n",
    "lr_cvs = CVS(lr,Xtrain,Ytrain,cv=5,scoring='neg_mean_squared_error')"
   ]
  },
  {
   "cell_type": "code",
   "execution_count": 23,
   "id": "94df925c-990a-494e-af47-d3543822125e",
   "metadata": {},
   "outputs": [
    {
     "data": {
      "text/plain": [
       "-25.3495074936485"
      ]
     },
     "execution_count": 23,
     "metadata": {},
     "output_type": "execute_result"
    }
   ],
   "source": [
    "lr_cvs.mean()"
   ]
  },
  {
   "cell_type": "code",
   "execution_count": 24,
   "id": "f6d8938f-ee71-413e-9ba7-70d1a5da6b2a",
   "metadata": {
    "collapsed": true,
    "jupyter": {
     "outputs_hidden": true
    },
    "tags": []
   },
   "outputs": [
    {
     "name": "stdout",
     "output_type": "stream",
     "text": [
      "[13:46:56] WARNING: C:/Users/Administrator/workspace/xgboost-win64_release_1.5.1/src/learner.cc:576: \n",
      "Parameters: { \"silent\" } might not be used.\n",
      "\n",
      "  This could be a false alarm, with some parameters getting used by language bindings but\n",
      "  then being mistakenly passed down to XGBoost core, or some parameter actually being used\n",
      "  but getting flagged wrongly here. Please open an issue if you find any such cases.\n",
      "\n",
      "\n",
      "[13:46:56] WARNING: C:/Users/Administrator/workspace/xgboost-win64_release_1.5.1/src/learner.cc:576: \n",
      "Parameters: { \"silent\" } might not be used.\n",
      "\n",
      "  This could be a false alarm, with some parameters getting used by language bindings but\n",
      "  then being mistakenly passed down to XGBoost core, or some parameter actually being used\n",
      "  but getting flagged wrongly here. Please open an issue if you find any such cases.\n",
      "\n",
      "\n",
      "[13:46:57] WARNING: C:/Users/Administrator/workspace/xgboost-win64_release_1.5.1/src/learner.cc:576: \n",
      "Parameters: { \"silent\" } might not be used.\n",
      "\n",
      "  This could be a false alarm, with some parameters getting used by language bindings but\n",
      "  then being mistakenly passed down to XGBoost core, or some parameter actually being used\n",
      "  but getting flagged wrongly here. Please open an issue if you find any such cases.\n",
      "\n",
      "\n",
      "[13:46:57] WARNING: C:/Users/Administrator/workspace/xgboost-win64_release_1.5.1/src/learner.cc:576: \n",
      "Parameters: { \"silent\" } might not be used.\n",
      "\n",
      "  This could be a false alarm, with some parameters getting used by language bindings but\n",
      "  then being mistakenly passed down to XGBoost core, or some parameter actually being used\n",
      "  but getting flagged wrongly here. Please open an issue if you find any such cases.\n",
      "\n",
      "\n",
      "[13:46:57] WARNING: C:/Users/Administrator/workspace/xgboost-win64_release_1.5.1/src/learner.cc:576: \n",
      "Parameters: { \"silent\" } might not be used.\n",
      "\n",
      "  This could be a false alarm, with some parameters getting used by language bindings but\n",
      "  then being mistakenly passed down to XGBoost core, or some parameter actually being used\n",
      "  but getting flagged wrongly here. Please open an issue if you find any such cases.\n",
      "\n",
      "\n"
     ]
    },
    {
     "data": {
      "text/plain": [
       "-16.215644229762717"
      ]
     },
     "execution_count": 24,
     "metadata": {},
     "output_type": "execute_result"
    }
   ],
   "source": [
    "reg2 = XGBR(n_estimators=100,silent=False)\n",
    "CVS(reg2,Xtrain,Ytrain,cv=5,scoring='neg_mean_squared_error').mean()"
   ]
  },
  {
   "cell_type": "code",
   "execution_count": 27,
   "id": "cad7686a-465a-46a4-981c-b00bb0416ed3",
   "metadata": {},
   "outputs": [],
   "source": [
    "def plot_learning_curve(estimator,title, x, y,\n",
    "                        ax=None,\n",
    "                        ylim=None,\n",
    "                        cv=None,\n",
    "                        n_jobs=None\n",
    "                       ):\n",
    "    from sklearn.model_selection import learning_curve\n",
    "    \n",
    "    train_sizes, train_scores, test_scores = learning_curve(estimator, x, y\n",
    "                                                            ,shuffle=True\n",
    "                                                            ,cv=cv\n",
    "                                                            ,random_state=420\n",
    "                                                            ,n_jobs=n_jobs)\n",
    "    if ax == None:\n",
    "        ax = plt.gca()\n",
    "    else:\n",
    "        ax = plt.figure()\n",
    "    ax.set_title(title)\n",
    "    if ylim is not None:\n",
    "        ax.set_ylim(*ylim)\n",
    "    ax.set_xlabel(\"Training examples\")\n",
    "    ax.set_ylabel(\"Score\")\n",
    "    ax.grid()\n",
    "    ax.plot(train_sizes, np.mean(train_scores, axis=1), 'o-'\n",
    "            ,color=\"r\",label=\"Training score\")\n",
    "    ax.plot(train_sizes, np.mean(test_scores, axis=1), 'o-'\n",
    "            , color=\"g\", label=\"Test score\")\n",
    "    ax.legend(loc=\"best\")\n",
    "    return ax\n",
    "        "
   ]
  },
  {
   "cell_type": "code",
   "execution_count": 28,
   "id": "be85c2d4-27b0-4dd3-9dc7-24f4c618e3a0",
   "metadata": {},
   "outputs": [
    {
     "data": {
      "image/png": "[encoded data removed]",
      "text/plain": [
       "<Figure size 432x288 with 1 Axes>"
      ]
     },
     "metadata": {
      "needs_background": "light"
     },
     "output_type": "display_data"
    }
   ],
   "source": [
    "cv = KFold(n_splits=5,shuffle=True,random_state=42)\n",
    "plot_learning_curve(XGBR(n_estimators=100,random_state=420),\"XGB\",Xtrain,Ytrain,ax=None,cv=cv)\n",
    "plt.show()"
   ]
  },
  {
   "cell_type": "code",
   "execution_count": null,
   "id": "85152b09-cb15-4aa4-868f-74befa530241",
   "metadata": {},
   "outputs": [],
   "source": []
  }
 ],
 "metadata": {
  "kernelspec": {
   "display_name": "Python 3 (ipykernel)",
   "language": "python",
   "name": "python3"
  },
  "language_info": {
   "codemirror_mode": {
    "name": "ipython",
    "version": 3
   },
   "file_extension": ".py",
   "mimetype": "text/x-python",
   "name": "python",
   "nbconvert_exporter": "python",
   "pygments_lexer": "ipython3",
   "version": "3.9.7"
  }
 },
 "nbformat": 4,
 "nbformat_minor": 5
}
