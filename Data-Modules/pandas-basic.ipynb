{
 "cells": [
  {
   "cell_type": "code",
   "execution_count": 1,
   "id": "49db5f55-9cc8-4cbe-81ba-12b62add02c4",
   "metadata": {},
   "outputs": [],
   "source": [
    "import pandas as pd\n",
    "import numpy as np"
   ]
  },
  {
   "cell_type": "code",
   "execution_count": 14,
   "id": "e5ca4804-ae59-4c73-aaa7-a4d08ffb02ec",
   "metadata": {},
   "outputs": [],
   "source": [
    "df1 = pd.DataFrame(np.arange(12).reshape(3,4),index=list(\"abc\"),columns=list(\"wxyz\"))"
   ]
  },
  {
   "cell_type": "code",
   "execution_count": 12,
   "id": "c8f3f83a-f1d5-4bb7-bcca-53bed2112f36",
   "metadata": {},
   "outputs": [],
   "source": [
    "se1 = pd.Series(np.arange(12))"
   ]
  },
  {
   "cell_type": "code",
   "execution_count": 13,
   "id": "5f35f621-67bd-4097-bcdd-f12216202b2b",
   "metadata": {},
   "outputs": [
    {
     "name": "stdout",
     "output_type": "stream",
     "text": [
      "<class 'pandas.core.frame.DataFrame'>\n",
      "RangeIndex: 3 entries, 0 to 2\n",
      "Data columns (total 4 columns):\n",
      " #   Column  Non-Null Count  Dtype\n",
      "---  ------  --------------  -----\n",
      " 0   0       3 non-null      int32\n",
      " 1   1       3 non-null      int32\n",
      " 2   2       3 non-null      int32\n",
      " 3   3       3 non-null      int32\n",
      "dtypes: int32(4)\n",
      "memory usage: 176.0 bytes\n"
     ]
    }
   ],
   "source": [
    "df1.info()"
   ]
  },
  {
   "cell_type": "code",
   "execution_count": 18,
   "id": "ea44ed5f-bace-45a9-b621-20cf46e52eeb",
   "metadata": {},
   "outputs": [
    {
     "data": {
      "text/html": [
       "<div>\n",
       "<style scoped>\n",
       "    .dataframe tbody tr th:only-of-type {\n",
       "        vertical-align: middle;\n",
       "    }\n",
       "\n",
       "    .dataframe tbody tr th {\n",
       "        vertical-align: top;\n",
       "    }\n",
       "\n",
       "    .dataframe thead th {\n",
       "        text-align: right;\n",
       "    }\n",
       "</style>\n",
       "<table border=\"1\" class=\"dataframe\">\n",
       "  <thead>\n",
       "    <tr style=\"text-align: right;\">\n",
       "      <th></th>\n",
       "      <th>w</th>\n",
       "      <th>z</th>\n",
       "    </tr>\n",
       "  </thead>\n",
       "  <tbody>\n",
       "    <tr>\n",
       "      <th>a</th>\n",
       "      <td>0</td>\n",
       "      <td>3</td>\n",
       "    </tr>\n",
       "    <tr>\n",
       "      <th>b</th>\n",
       "      <td>4</td>\n",
       "      <td>7</td>\n",
       "    </tr>\n",
       "    <tr>\n",
       "      <th>c</th>\n",
       "      <td>8</td>\n",
       "      <td>11</td>\n",
       "    </tr>\n",
       "  </tbody>\n",
       "</table>\n",
       "</div>"
      ],
      "text/plain": [
       "   w   z\n",
       "a  0   3\n",
       "b  4   7\n",
       "c  8  11"
      ]
     },
     "execution_count": 18,
     "metadata": {},
     "output_type": "execute_result"
    }
   ],
   "source": [
    "df1[[\"w\",\"z\"]]"
   ]
  },
  {
   "cell_type": "code",
   "execution_count": 2,
   "id": "638ffb2d-344f-4273-8570-27cdd1197efc",
   "metadata": {},
   "outputs": [
    {
     "name": "stdout",
     "output_type": "stream",
     "text": [
      "This is number 0\n",
      "This is number 1\n",
      "This is number 2\n",
      "This is number 3\n",
      "This is number 4\n",
      "This is number 5\n",
      "This is number 6\n",
      "This is number 7\n",
      "This is number 8\n",
      "This is number 9\n"
     ]
    }
   ],
   "source": [
    "for i in range(10):\n",
    "    print(\"This is number {}\".format(i))"
   ]
  },
  {
   "cell_type": "code",
   "execution_count": 4,
   "id": "0a65a95c-80a0-445a-b430-562115dbd481",
   "metadata": {},
   "outputs": [
    {
     "name": "stdout",
     "output_type": "stream",
     "text": [
      "hhz\n"
     ]
    }
   ],
   "source": [
    "print(\"hhz\")"
   ]
  },
  {
   "cell_type": "code",
   "execution_count": null,
   "id": "6f11a60c-cd34-4c69-b75c-95fbab0c7cbd",
   "metadata": {},
   "outputs": [],
   "source": [
    "print(\""
   ]
  }
 ],
 "metadata": {
  "kernelspec": {
   "display_name": "Python 3 (ipykernel)",
   "language": "python",
   "name": "python3"
  },
  "language_info": {
   "codemirror_mode": {
    "name": "ipython",
    "version": 3
   },
   "file_extension": ".py",
   "mimetype": "text/x-python",
   "name": "python",
   "nbconvert_exporter": "python",
   "pygments_lexer": "ipython3",
   "version": "3.9.7"
  }
 },
 "nbformat": 4,
 "nbformat_minor": 5
}
