{
 "cells": [
  {
   "cell_type": "code",
   "execution_count": 6,
   "id": "1ddc9ea3-5a96-46df-b9ff-1787341fe29d",
   "metadata": {},
   "outputs": [],
   "source": [
    "single = 'why'\n",
    "double = \"tym\"\n",
    "more = \"\"\"hhz\"\"\""
   ]
  },
  {
   "cell_type": "code",
   "execution_count": 7,
   "id": "2fb7143a-6dfe-4e99-ac5b-6ea9c039ce33",
   "metadata": {},
   "outputs": [
    {
     "data": {
      "text/plain": [
       "'why'"
      ]
     },
     "execution_count": 7,
     "metadata": {},
     "output_type": "execute_result"
    }
   ],
   "source": [
    "single"
   ]
  },
  {
   "cell_type": "code",
   "execution_count": 8,
   "id": "c1a1b9e6-6ff9-4a52-a9e6-5393276bdd00",
   "metadata": {},
   "outputs": [
    {
     "data": {
      "text/plain": [
       "'tym'"
      ]
     },
     "execution_count": 8,
     "metadata": {},
     "output_type": "execute_result"
    }
   ],
   "source": [
    "double"
   ]
  },
  {
   "cell_type": "code",
   "execution_count": 9,
   "id": "b9ade596-a8cd-46c9-bd37-f8e26c115c2f",
   "metadata": {},
   "outputs": [
    {
     "data": {
      "text/plain": [
       "'hhz'"
      ]
     },
     "execution_count": 9,
     "metadata": {},
     "output_type": "execute_result"
    }
   ],
   "source": [
    "more"
   ]
  },
  {
   "cell_type": "code",
   "execution_count": 11,
   "id": "9e41ea27-6f86-438c-8df2-f8dc2cca4c96",
   "metadata": {},
   "outputs": [
    {
     "data": {
      "text/plain": [
       "'\\nthis is hhz\\'s book, it writes: \"I have a pen\"\\n'"
      ]
     },
     "execution_count": 11,
     "metadata": {},
     "output_type": "execute_result"
    }
   ],
   "source": [
    "\"\"\"\n",
    "this is hhz's book, it writes: \"I have a pen\"\n",
    "\"\"\""
   ]
  },
  {
   "cell_type": "code",
   "execution_count": 13,
   "id": "74644d8d-f12b-4eeb-8a6d-cf9424982f11",
   "metadata": {},
   "outputs": [
    {
     "name": "stdout",
     "output_type": "stream",
     "text": [
      "abc\tdef\n"
     ]
    }
   ],
   "source": [
    "print(\"abc\\tdef\")"
   ]
  },
  {
   "cell_type": "code",
   "execution_count": 14,
   "id": "f4d42d8e-2a85-4077-84ea-3ca4b803f11b",
   "metadata": {},
   "outputs": [
    {
     "data": {
      "text/plain": [
       "True"
      ]
     },
     "execution_count": 14,
     "metadata": {},
     "output_type": "execute_result"
    }
   ],
   "source": [
    "1 == 1"
   ]
  },
  {
   "cell_type": "code",
   "execution_count": 18,
   "id": "e604f7cb-ccac-47fd-85ef-1e12e8c111d7",
   "metadata": {},
   "outputs": [],
   "source": [
    "t = None"
   ]
  },
  {
   "cell_type": "code",
   "execution_count": 19,
   "id": "bab4f1ad-6ac6-45a4-bf87-197a7d5d1b04",
   "metadata": {},
   "outputs": [],
   "source": [
    "t"
   ]
  },
  {
   "cell_type": "code",
   "execution_count": 20,
   "id": "a3053e0e-bde9-4ba7-82f5-8b748e455170",
   "metadata": {},
   "outputs": [
    {
     "data": {
      "text/plain": [
       "True"
      ]
     },
     "execution_count": 20,
     "metadata": {},
     "output_type": "execute_result"
    }
   ],
   "source": [
    "True and True and (False or True)"
   ]
  },
  {
   "cell_type": "code",
   "execution_count": 21,
   "id": "0949062a-d52b-467f-9e2e-f3e074cbe21b",
   "metadata": {},
   "outputs": [
    {
     "data": {
      "text/plain": [
       "17"
      ]
     },
     "execution_count": 21,
     "metadata": {},
     "output_type": "execute_result"
    }
   ],
   "source": [
    "2 + (3 * 5)"
   ]
  },
  {
   "cell_type": "code",
   "execution_count": 22,
   "id": "1e3e1075-4193-4b2a-b968-917e07cf5009",
   "metadata": {},
   "outputs": [
    {
     "data": {
      "text/plain": [
       "12"
      ]
     },
     "execution_count": 22,
     "metadata": {},
     "output_type": "execute_result"
    }
   ],
   "source": [
    "x = 10\n",
    "x = x + 2\n",
    "x"
   ]
  },
  {
   "cell_type": "code",
   "execution_count": 24,
   "id": "575be74d-4905-45ec-90bc-aa9d96d749c4",
   "metadata": {},
   "outputs": [
    {
     "data": {
      "text/plain": [
       "float"
      ]
     },
     "execution_count": 24,
     "metadata": {},
     "output_type": "execute_result"
    }
   ],
   "source": [
    "type(10 / 2)"
   ]
  },
  {
   "cell_type": "code",
   "execution_count": 25,
   "id": "a3807b60-5ecb-4c38-8365-4f0ddca75bb0",
   "metadata": {},
   "outputs": [],
   "source": [
    "number = 12\n",
    "number2 = 1.2\n",
    "name = 'asd'"
   ]
  },
  {
   "cell_type": "code",
   "execution_count": 27,
   "id": "8d8e666d-3a2e-4c71-9661-1acc44280f6a",
   "metadata": {},
   "outputs": [],
   "source": [
    "tr = number > number2"
   ]
  },
  {
   "cell_type": "code",
   "execution_count": 29,
   "id": "e5924b7a-b368-47fc-b85b-07f8a0034ec8",
   "metadata": {},
   "outputs": [
    {
     "data": {
      "text/plain": [
       "4.0"
      ]
     },
     "execution_count": 29,
     "metadata": {},
     "output_type": "execute_result"
    }
   ],
   "source": [
    "12 / 3"
   ]
  },
  {
   "cell_type": "code",
   "execution_count": 30,
   "id": "66041028-3a25-4ed8-90b6-25c3530f3073",
   "metadata": {},
   "outputs": [
    {
     "data": {
      "text/plain": [
       "2.4"
      ]
     },
     "execution_count": 30,
     "metadata": {},
     "output_type": "execute_result"
    }
   ],
   "source": [
    "12 / 5"
   ]
  },
  {
   "cell_type": "code",
   "execution_count": 31,
   "id": "6ff28c55-b676-4faf-8bdd-ffe8875f9479",
   "metadata": {},
   "outputs": [
    {
     "data": {
      "text/plain": [
       "0.3333333333333333"
      ]
     },
     "execution_count": 31,
     "metadata": {},
     "output_type": "execute_result"
    }
   ],
   "source": [
    "1 / 3"
   ]
  },
  {
   "cell_type": "code",
   "execution_count": 32,
   "id": "fae163da-5bda-43a0-8c96-cadb0a52839e",
   "metadata": {},
   "outputs": [
    {
     "data": {
      "text/plain": [
       "0"
      ]
     },
     "execution_count": 32,
     "metadata": {},
     "output_type": "execute_result"
    }
   ],
   "source": [
    "1 // 3"
   ]
  },
  {
   "cell_type": "code",
   "execution_count": 33,
   "id": "f73b68f3-ea10-4c04-9534-da9fce5536e9",
   "metadata": {},
   "outputs": [
    {
     "data": {
      "text/plain": [
       "1"
      ]
     },
     "execution_count": 33,
     "metadata": {},
     "output_type": "execute_result"
    }
   ],
   "source": [
    "1 % 3"
   ]
  },
  {
   "cell_type": "code",
   "execution_count": 36,
   "id": "7b74a09d-3c5d-481a-b72f-70ce38e9f60b",
   "metadata": {},
   "outputs": [
    {
     "data": {
      "text/plain": [
       "2.220446049250313e-16"
      ]
     },
     "execution_count": 36,
     "metadata": {},
     "output_type": "execute_result"
    }
   ],
   "source": [
    "3.6 % 1.2"
   ]
  },
  {
   "cell_type": "code",
   "execution_count": 37,
   "id": "f6239a88-d3a6-4a52-a535-f4d714388750",
   "metadata": {},
   "outputs": [
    {
     "data": {
      "text/plain": [
       "0.0"
      ]
     },
     "execution_count": 37,
     "metadata": {},
     "output_type": "execute_result"
    }
   ],
   "source": [
    "0.0"
   ]
  },
  {
   "cell_type": "code",
   "execution_count": null,
   "id": "b60915cc-d5c5-43a1-9cd5-f2d243cfb066",
   "metadata": {},
   "outputs": [],
   "source": []
  }
 ],
 "metadata": {
  "kernelspec": {
   "display_name": "Python 3 (ipykernel)",
   "language": "python",
   "name": "python3"
  },
  "language_info": {
   "codemirror_mode": {
    "name": "ipython",
    "version": 3
   },
   "file_extension": ".py",
   "mimetype": "text/x-python",
   "name": "python",
   "nbconvert_exporter": "python",
   "pygments_lexer": "ipython3",
   "version": "3.9.7"
  }
 },
 "nbformat": 4,
 "nbformat_minor": 5
}
